{
 "cells": [
  {
   "cell_type": "code",
   "execution_count": 1,
   "id": "697277b9-58ab-41ee-9f92-557471d5e633",
   "metadata": {},
   "outputs": [],
   "source": [
    "%load_ext dotenv\n",
    "%dotenv"
   ]
  },
  {
   "cell_type": "code",
   "execution_count": 2,
   "id": "570f062a-9fe0-4dc5-b5c0-90fb4af44a96",
   "metadata": {},
   "outputs": [],
   "source": [
    "import os\n",
    "import openai"
   ]
  },
  {
   "cell_type": "code",
   "execution_count": 3,
   "id": "a05b3ba2-06b4-46ff-9f23-ea86fecdc0c5",
   "metadata": {},
   "outputs": [],
   "source": [
    "openai.api_key = os.getenv('OPENAI_API_KEY')"
   ]
  },
  {
   "cell_type": "code",
   "execution_count": 4,
   "id": "4f671531-d757-4db0-a2c2-82917b6d5843",
   "metadata": {},
   "outputs": [],
   "source": [
    "client = openai.OpenAI()"
   ]
  },
  {
   "cell_type": "code",
   "execution_count": null,
   "id": "92ae28c1-b014-4300-89f1-70ef9009812c",
   "metadata": {},
   "outputs": [],
   "source": [
    "completion = client.chat.completions.create(model = 'gpt-4',\n",
    "                                            messages = [{}, {}])"
   ]
  }
 ],
 "metadata": {
  "kernelspec": {
   "display_name": "langchain_env",
   "language": "python",
   "name": "langchain_env"
  },
  "language_info": {
   "codemirror_mode": {
    "name": "ipython",
    "version": 3
   },
   "file_extension": ".py",
   "mimetype": "text/x-python",
   "name": "python",
   "nbconvert_exporter": "python",
   "pygments_lexer": "ipython3",
   "version": "3.12.7"
  }
 },
 "nbformat": 4,
 "nbformat_minor": 5
}
