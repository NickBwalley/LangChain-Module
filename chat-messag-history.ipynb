{
 "cells": [
  {
   "cell_type": "markdown",
   "id": "96a1e8fe",
   "metadata": {},
   "source": [
    "# Chat Message History"
   ]
  },
  {
   "cell_type": "code",
   "execution_count": 32,
   "id": "a599b2b8-39b0-4a8b-ab53-5fd14caa5857",
   "metadata": {},
   "outputs": [],
   "source": [
    "# Run the line of code below to check the version of langchain in the current environment.\n",
    "# Substitute \"langchain\" with any other package name to check their version."
   ]
  },
  {
   "cell_type": "code",
   "execution_count": 33,
   "id": "e3289672-80b2-495b-a1dc-520af35c8722",
   "metadata": {},
   "outputs": [
    {
     "name": "stdout",
     "output_type": "stream",
     "text": [
      "Name: langchain\n",
      "Version: 0.3.13\n",
      "Summary: Building applications with LLMs through composability\n",
      "Home-page: https://github.com/langchain-ai/langchain\n",
      "Author: \n",
      "Author-email: \n",
      "License: MIT\n",
      "Location: C:\\Users\\nickb\\anaconda3\\envs\\langchain_env\\Lib\\site-packages\n",
      "Requires: aiohttp, langchain-core, langchain-text-splitters, langsmith, numpy, pydantic, PyYAML, requests, SQLAlchemy, tenacity\n",
      "Required-by: langchain-community\n",
      "Note: you may need to restart the kernel to use updated packages.\n"
     ]
    }
   ],
   "source": [
    "pip show langchain"
   ]
  },
  {
   "cell_type": "code",
   "execution_count": 34,
   "id": "d560d854",
   "metadata": {},
   "outputs": [
    {
     "name": "stdout",
     "output_type": "stream",
     "text": [
      "The dotenv extension is already loaded. To reload it, use:\n",
      "  %reload_ext dotenv\n"
     ]
    }
   ],
   "source": [
    "%load_ext dotenv\n",
    "%dotenv"
   ]
  },
  {
   "cell_type": "code",
   "execution_count": 35,
   "id": "09f67028",
   "metadata": {},
   "outputs": [],
   "source": [
    "from langchain_openai.chat_models import ChatOpenAI\n",
    "\n",
    "from langchain_core.prompts import (ChatPromptTemplate, \n",
    "                                    HumanMessagePromptTemplate)\n",
    "\n",
    "from langchain.chains.llm import LLMChain\n",
    "\n",
    "from langchain_community.chat_message_histories import ChatMessageHistory"
   ]
  },
  {
   "cell_type": "code",
   "execution_count": 36,
   "id": "067e58cf",
   "metadata": {},
   "outputs": [
    {
     "name": "stderr",
     "output_type": "stream",
     "text": [
      "C:\\Users\\nickb\\anaconda3\\envs\\langchain_env\\Lib\\site-packages\\IPython\\core\\interactiveshell.py:3517: UserWarning: Parameters {'seed'} should be specified explicitly. Instead they were passed in as part of `model_kwargs` parameter.\n",
      "  if await self.run_code(code, result, async_=asy):\n"
     ]
    }
   ],
   "source": [
    "chat = ChatOpenAI(model_name = 'gpt-4', \n",
    "                  model_kwargs = {'seed':365},\n",
    "                  temperature = 0,\n",
    "                  max_tokens = 100)"
   ]
  },
  {
   "cell_type": "code",
   "execution_count": 37,
   "id": "e0f1e4f4",
   "metadata": {},
   "outputs": [
    {
     "data": {
      "text/plain": [
       "InMemoryChatMessageHistory(messages=[])"
      ]
     },
     "execution_count": 37,
     "metadata": {},
     "output_type": "execute_result"
    }
   ],
   "source": [
    "background_info = ChatMessageHistory()\n",
    "background_info"
   ]
  },
  {
   "cell_type": "code",
   "execution_count": 38,
   "id": "5fba3422",
   "metadata": {},
   "outputs": [],
   "source": [
    "background_info.add_user_message(\"Can you give me an interesting fact I probably didn't know about?\")\n",
    "background_info.add_ai_message(\"Sure, did you know that the longest place name on the planet is 85 letters long?\")"
   ]
  },
  {
   "cell_type": "code",
   "execution_count": 39,
   "id": "870339e0",
   "metadata": {},
   "outputs": [
    {
     "data": {
      "text/plain": [
       "[HumanMessage(content=\"Can you give me an interesting fact I probably didn't know about?\", additional_kwargs={}, response_metadata={}),\n",
       " AIMessage(content='Sure, did you know that the longest place name on the planet is 85 letters long?', additional_kwargs={}, response_metadata={})]"
      ]
     },
     "execution_count": 39,
     "metadata": {},
     "output_type": "execute_result"
    }
   ],
   "source": [
    "background_info.messages"
   ]
  },
  {
   "cell_type": "code",
   "execution_count": 40,
   "id": "89fc3d68",
   "metadata": {},
   "outputs": [],
   "source": [
    "background_info.model_dump_json()\n",
    "background_info.model_dump()\n",
    "background_info.model_json_schema()\n",
    "\n",
    "background_info.clear()"
   ]
  },
  {
   "cell_type": "code",
   "execution_count": 41,
   "id": "7b6a31cd",
   "metadata": {},
   "outputs": [],
   "source": [
    "message_template_h = HumanMessagePromptTemplate.from_template(template = '{follow-up question}')"
   ]
  },
  {
   "cell_type": "code",
   "execution_count": 42,
   "id": "c5984e34",
   "metadata": {},
   "outputs": [],
   "source": [
    "chat_template = ChatPromptTemplate.from_messages(background_info.messages + [message_template_h])"
   ]
  },
  {
   "cell_type": "code",
   "execution_count": 43,
   "id": "1716d351",
   "metadata": {},
   "outputs": [
    {
     "data": {
      "text/plain": [
       "ChatPromptTemplate(input_variables=['follow-up question'], input_types={}, partial_variables={}, messages=[HumanMessagePromptTemplate(prompt=PromptTemplate(input_variables=['follow-up question'], input_types={}, partial_variables={}, template='{follow-up question}'), additional_kwargs={})])"
      ]
     },
     "execution_count": 43,
     "metadata": {},
     "output_type": "execute_result"
    }
   ],
   "source": [
    "chat_template"
   ]
  },
  {
   "cell_type": "code",
   "execution_count": 44,
   "id": "fd9623b6",
   "metadata": {},
   "outputs": [],
   "source": [
    "chain = LLMChain(llm = chat, prompt = chat_template)"
   ]
  },
  {
   "cell_type": "code",
   "execution_count": 45,
   "id": "94d15487",
   "metadata": {},
   "outputs": [],
   "source": [
    "response = chain.invoke({'follow-up question':'What does the name mean?'})"
   ]
  },
  {
   "cell_type": "code",
   "execution_count": 46,
   "id": "ca5e291d",
   "metadata": {},
   "outputs": [
    {
     "data": {
      "text/plain": [
       "{'follow-up question': 'What does the name mean?',\n",
       " 'text': \"Without specifying a particular name, it's impossible to provide a meaning. Names can have different meanings in different cultures and languages. Please provide a specific name for more detailed information.\"}"
      ]
     },
     "execution_count": 46,
     "metadata": {},
     "output_type": "execute_result"
    }
   ],
   "source": [
    "response"
   ]
  },
  {
   "cell_type": "code",
   "execution_count": 47,
   "id": "c4cb0940",
   "metadata": {},
   "outputs": [
    {
     "name": "stdout",
     "output_type": "stream",
     "text": [
      "Without specifying a particular name, it's impossible to provide a meaning. Names can have different meanings in different cultures and languages. Please provide a specific name for more detailed information.\n"
     ]
    }
   ],
   "source": [
    "print(response['text'])"
   ]
  },
  {
   "cell_type": "code",
   "execution_count": null,
   "id": "f8e00d2b",
   "metadata": {},
   "outputs": [],
   "source": []
  },
  {
   "cell_type": "code",
   "execution_count": null,
   "id": "860ad93b",
   "metadata": {},
   "outputs": [],
   "source": []
  }
 ],
 "metadata": {
  "kernelspec": {
   "display_name": "Python (langchain_env)",
   "language": "python",
   "name": "langchain_env"
  },
  "language_info": {
   "codemirror_mode": {
    "name": "ipython",
    "version": 3
   },
   "file_extension": ".py",
   "mimetype": "text/x-python",
   "name": "python",
   "nbconvert_exporter": "python",
   "pygments_lexer": "ipython3",
   "version": "3.12.7"
  }
 },
 "nbformat": 4,
 "nbformat_minor": 5
}
