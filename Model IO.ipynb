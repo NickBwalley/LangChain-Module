{
 "cells": [
  {
   "cell_type": "code",
   "execution_count": 13,
   "id": "ee8dd1a8-67a3-45f5-86ca-7bc649f0a514",
   "metadata": {},
   "outputs": [
    {
     "name": "stdout",
     "output_type": "stream",
     "text": [
      "The dotenv extension is already loaded. To reload it, use:\n",
      "  %reload_ext dotenv\n"
     ]
    }
   ],
   "source": [
    "%load_ext dotenv\n",
    "%dotenv"
   ]
  },
  {
   "cell_type": "code",
   "execution_count": 14,
   "id": "413297a1-6d01-439d-acd2-c618b6a53c44",
   "metadata": {},
   "outputs": [],
   "source": [
    "from langchain.chat_models import ChatOpenAI"
   ]
  },
  {
   "cell_type": "code",
   "execution_count": 18,
   "id": "06bfa6a9-2b51-42d3-b7e3-2f738b0e1f25",
   "metadata": {},
   "outputs": [],
   "source": [
    "chat = ChatOpenAI(model_name='gpt-4', \n",
    "                  model_kwargs={'seed': 365}, \n",
    "                  temperature=0, \n",
    "                 max_tokens = 100)"
   ]
  },
  {
   "cell_type": "code",
   "execution_count": 19,
   "id": "526280c5-9809-4d60-98ad-eed37fc113e0",
   "metadata": {},
   "outputs": [],
   "source": [
    "response = chat.invoke('''I've recently adopted a dog. \n",
    "Could you suggest some dog names? ''')"
   ]
  },
  {
   "cell_type": "code",
   "execution_count": 20,
   "id": "774dfc13-fba7-424e-863d-cf0244528097",
   "metadata": {},
   "outputs": [
    {
     "name": "stdout",
     "output_type": "stream",
     "text": [
      "Sure, here are some suggestions:\n",
      "\n",
      "Male Dog Names:\n",
      "1. Max\n",
      "2. Charlie\n",
      "3. Cooper\n",
      "4. Buddy\n",
      "5. Jack\n",
      "6. Rocky\n",
      "7. Duke\n",
      "8. Bear\n",
      "9. Zeus\n",
      "10. Toby\n",
      "\n",
      "Female Dog Names:\n",
      "1. Bella\n",
      "2. Lucy\n",
      "3. Daisy\n",
      "4. Luna\n",
      "5. Lola\n",
      "6. Sadie\n",
      "7. Molly\n",
      "8. Bailey\n",
      "9. Stella\n",
      "10. Maggie\n",
      "\n",
      "Unisex Dog Names\n"
     ]
    }
   ],
   "source": [
    "print(response.content)"
   ]
  },
  {
   "cell_type": "code",
   "execution_count": null,
   "id": "0edfa8f0-9944-48a6-b45d-22fde96cabf3",
   "metadata": {},
   "outputs": [],
   "source": []
  }
 ],
 "metadata": {
  "kernelspec": {
   "display_name": "Python (langchain_env)",
   "language": "python",
   "name": "langchain_env"
  },
  "language_info": {
   "codemirror_mode": {
    "name": "ipython",
    "version": 3
   },
   "file_extension": ".py",
   "mimetype": "text/x-python",
   "name": "python",
   "nbconvert_exporter": "python",
   "pygments_lexer": "ipython3",
   "version": "3.12.7"
  }
 },
 "nbformat": 4,
 "nbformat_minor": 5
}
