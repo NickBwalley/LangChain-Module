{
 "cells": [
  {
   "cell_type": "markdown",
   "id": "a736bed8",
   "metadata": {},
   "source": [
    "# System and Human Messages"
   ]
  },
  {
   "cell_type": "code",
   "execution_count": null,
   "id": "7f1a3aac-655d-430b-a8fb-525e5513efa2",
   "metadata": {},
   "outputs": [],
   "source": [
    "# Run the line of code below to check the version of langchain in the current environment.\n",
    "# Substitute \"langchain\" with any other package name to check their version."
   ]
  },
  {
   "cell_type": "code",
   "execution_count": 1,
   "id": "b623b398-8540-44e1-8015-311740d04ea0",
   "metadata": {},
   "outputs": [
    {
     "name": "stdout",
     "output_type": "stream",
     "text": [
      "Name: langchainNote: you may need to restart the kernel to use updated packages.\n",
      "\n",
      "Version: 0.3.13\n",
      "Summary: Building applications with LLMs through composability\n",
      "Home-page: https://github.com/langchain-ai/langchain\n",
      "Author: \n",
      "Author-email: \n",
      "License: MIT\n",
      "Location: C:\\Users\\nickb\\anaconda3\\envs\\langchain_env\\Lib\\site-packages\n",
      "Requires: aiohttp, langchain-core, langchain-text-splitters, langsmith, numpy, pydantic, PyYAML, requests, SQLAlchemy, tenacity\n",
      "Required-by: langchain-community\n"
     ]
    }
   ],
   "source": [
    "pip show langchain"
   ]
  },
  {
   "cell_type": "code",
   "execution_count": 2,
   "id": "1c4627bc",
   "metadata": {},
   "outputs": [],
   "source": [
    "%load_ext dotenv\n",
    "%dotenv"
   ]
  },
  {
   "cell_type": "code",
   "execution_count": 3,
   "id": "4abe290d",
   "metadata": {},
   "outputs": [],
   "source": [
    "from langchain_openai.chat_models import ChatOpenAI\n",
    "\n",
    "from langchain_core.messages import SystemMessage, HumanMessage"
   ]
  },
  {
   "cell_type": "code",
   "execution_count": 4,
   "id": "fb1bce33",
   "metadata": {},
   "outputs": [
    {
     "name": "stderr",
     "output_type": "stream",
     "text": [
      "C:\\Users\\nickb\\anaconda3\\envs\\langchain_env\\Lib\\site-packages\\IPython\\core\\interactiveshell.py:3517: UserWarning: Parameters {'seed'} should be specified explicitly. Instead they were passed in as part of `model_kwargs` parameter.\n",
      "  if await self.run_code(code, result, async_=asy):\n"
     ]
    }
   ],
   "source": [
    "chat = ChatOpenAI(model_name = 'gpt-4', \n",
    "                  model_kwargs = {'seed':365},\n",
    "                  temperature = 0,\n",
    "                  max_tokens = 100)"
   ]
  },
  {
   "cell_type": "code",
   "execution_count": 8,
   "id": "b7af14ea",
   "metadata": {},
   "outputs": [],
   "source": [
    "message_s = SystemMessage(content = ''' You are Tilda, a chatbot that answers questions directly and \n",
    "direct accurate responses. ''')\n",
    "message_h = HumanMessage(content = ''' I've recently started learning A.I. Can you give me suggestions\n",
    "of the concepts to learn to be worldclass? ''')"
   ]
  },
  {
   "cell_type": "code",
   "execution_count": 9,
   "id": "df13bcac",
   "metadata": {},
   "outputs": [],
   "source": [
    "response = chat.invoke([message_s, message_h])"
   ]
  },
  {
   "cell_type": "code",
   "execution_count": 10,
   "id": "b96d344f",
   "metadata": {},
   "outputs": [
    {
     "name": "stdout",
     "output_type": "stream",
     "text": [
      "Absolutely, here are some key concepts you should focus on to excel in the field of Artificial Intelligence:\n",
      "\n",
      "1. **Mathematics**: Understanding of concepts in linear algebra, calculus, and statistics is essential as they form the backbone of many AI algorithms.\n",
      "\n",
      "2. **Programming**: Proficiency in a programming language such as Python, which is widely used in AI and Machine Learning, is crucial. \n",
      "\n",
      "3. **Data Structures and Algorithms**: Knowledge of data structures (like arrays, stacks, queues, trees,\n"
     ]
    }
   ],
   "source": [
    "print(response.content)"
   ]
  },
  {
   "cell_type": "code",
   "execution_count": null,
   "id": "53b2cae9",
   "metadata": {},
   "outputs": [],
   "source": []
  },
  {
   "cell_type": "code",
   "execution_count": null,
   "id": "f0b9451c",
   "metadata": {},
   "outputs": [],
   "source": []
  }
 ],
 "metadata": {
  "kernelspec": {
   "display_name": "Python (langchain_env)",
   "language": "python",
   "name": "langchain_env"
  },
  "language_info": {
   "codemirror_mode": {
    "name": "ipython",
    "version": 3
   },
   "file_extension": ".py",
   "mimetype": "text/x-python",
   "name": "python",
   "nbconvert_exporter": "python",
   "pygments_lexer": "ipython3",
   "version": "3.12.7"
  }
 },
 "nbformat": 4,
 "nbformat_minor": 5
}
