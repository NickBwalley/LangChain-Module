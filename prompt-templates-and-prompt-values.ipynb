{
 "cells": [
  {
   "cell_type": "markdown",
   "id": "dda61eda",
   "metadata": {},
   "source": [
    "# Prompt Templates and Prompt Values"
   ]
  },
  {
   "cell_type": "code",
   "execution_count": 1,
   "id": "f4420163-dddb-459b-b4ac-fe1491b327c8",
   "metadata": {},
   "outputs": [],
   "source": [
    "# Run the line of code below to check the version of langchain in the current environment.\n",
    "# Substitute \"langchain\" with any other package name to check their version."
   ]
  },
  {
   "cell_type": "code",
   "execution_count": 2,
   "id": "ca846f15-ce31-4de3-9804-ed354c31c2c1",
   "metadata": {},
   "outputs": [
    {
     "name": "stdout",
     "output_type": "stream",
     "text": [
      "Name: langchain\n",
      "Version: 0.3.13\n",
      "Summary: Building applications with LLMs through composability\n",
      "Home-page: https://github.com/langchain-ai/langchain\n",
      "Author: \n",
      "Author-email: \n",
      "License: MIT\n",
      "Location: C:\\Users\\nickb\\anaconda3\\envs\\langchain_env\\Lib\\site-packages\n",
      "Requires: aiohttp, langchain-core, langchain-text-splitters, langsmith, numpy, pydantic, PyYAML, requests, SQLAlchemy, tenacity\n",
      "Required-by: langchain-community\n",
      "Note: you may need to restart the kernel to use updated packages.\n"
     ]
    }
   ],
   "source": [
    "pip show langchain"
   ]
  },
  {
   "cell_type": "code",
   "execution_count": 3,
   "id": "5edaf924",
   "metadata": {},
   "outputs": [],
   "source": [
    "from langchain_core.prompts import PromptTemplate"
   ]
  },
  {
   "cell_type": "code",
   "execution_count": 4,
   "id": "53f7730a",
   "metadata": {},
   "outputs": [],
   "source": [
    "TEMPLATE = '''\n",
    "System:\n",
    "{description}\n",
    "\n",
    "Human:\n",
    "I've recently adopted a {pet}.\n",
    "Could you suggest some {pet} names?\n",
    "'''"
   ]
  },
  {
   "cell_type": "code",
   "execution_count": 5,
   "id": "903a68cb",
   "metadata": {},
   "outputs": [],
   "source": [
    "prompt_template = PromptTemplate.from_template(template = TEMPLATE)"
   ]
  },
  {
   "cell_type": "code",
   "execution_count": 6,
   "id": "d5a77679",
   "metadata": {},
   "outputs": [
    {
     "data": {
      "text/plain": [
       "PromptTemplate(input_variables=['description', 'pet'], input_types={}, partial_variables={}, template=\"\\nSystem:\\n{description}\\n\\nHuman:\\nI've recently adopted a {pet}.\\nCould you suggest some {pet} names?\\n\")"
      ]
     },
     "execution_count": 6,
     "metadata": {},
     "output_type": "execute_result"
    }
   ],
   "source": [
    "prompt_template"
   ]
  },
  {
   "cell_type": "code",
   "execution_count": 7,
   "id": "dbd6b750",
   "metadata": {},
   "outputs": [],
   "source": [
    "prompt_value = prompt_template.invoke({'description':''' The chatbot should reluctantly answer questions\n",
    "with sarcastic responses. ''', \n",
    "                                       'pet':'dog'})"
   ]
  },
  {
   "cell_type": "code",
   "execution_count": 8,
   "id": "62186e29",
   "metadata": {},
   "outputs": [
    {
     "data": {
      "text/plain": [
       "StringPromptValue(text=\"\\nSystem:\\n The chatbot should reluctantly answer questions\\nwith sarcastic responses. \\n\\nHuman:\\nI've recently adopted a dog.\\nCould you suggest some dog names?\\n\")"
      ]
     },
     "execution_count": 8,
     "metadata": {},
     "output_type": "execute_result"
    }
   ],
   "source": [
    "prompt_value"
   ]
  },
  {
   "cell_type": "code",
   "execution_count": 9,
   "id": "a2d5d4c4",
   "metadata": {},
   "outputs": [
    {
     "name": "stdout",
     "output_type": "stream",
     "text": [
      "\n",
      "System:\n",
      " The chatbot should reluctantly answer questions\n",
      "with sarcastic responses. \n",
      "\n",
      "Human:\n",
      "I've recently adopted a dog.\n",
      "Could you suggest some dog names?\n",
      "\n"
     ]
    }
   ],
   "source": [
    "print(prompt_value.text)"
   ]
  },
  {
   "cell_type": "code",
   "execution_count": null,
   "id": "9b5a8c0a",
   "metadata": {},
   "outputs": [],
   "source": []
  },
  {
   "cell_type": "code",
   "execution_count": null,
   "id": "bef034de",
   "metadata": {},
   "outputs": [],
   "source": []
  }
 ],
 "metadata": {
  "kernelspec": {
   "display_name": "Python (langchain_env)",
   "language": "python",
   "name": "langchain_env"
  },
  "language_info": {
   "codemirror_mode": {
    "name": "ipython",
    "version": 3
   },
   "file_extension": ".py",
   "mimetype": "text/x-python",
   "name": "python",
   "nbconvert_exporter": "python",
   "pygments_lexer": "ipython3",
   "version": "3.12.7"
  }
 },
 "nbformat": 4,
 "nbformat_minor": 5
}
