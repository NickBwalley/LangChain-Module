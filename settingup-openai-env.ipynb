{
 "cells": [
  {
   "cell_type": "code",
   "execution_count": null,
   "id": "a170fc6b-d72d-4ff5-b91f-5704370da945",
   "metadata": {},
   "outputs": [],
   "source": [
    "import os"
   ]
  },
  {
   "cell_type": "code",
   "execution_count": null,
   "id": "47279c71-91e9-46a4-90ea-212fb685ad8b",
   "metadata": {},
   "outputs": [],
   "source": [
    "os.environ.items()"
   ]
  },
  {
   "cell_type": "code",
   "execution_count": null,
   "id": "b73ca923-fcba-47d6-aed8-5a1a79f52b73",
   "metadata": {},
   "outputs": [],
   "source": [
    "for key, value in os.environ.items():\n",
    "    if key == 'OPENAI_API_KEY':\n",
    "        print(f\"{key}:value\")"
   ]
  },
  {
   "cell_type": "code",
   "execution_count": null,
   "id": "f1605281-1128-4754-b7c4-d106fc3b12db",
   "metadata": {},
   "outputs": [],
   "source": [
    "os.environ['OPENAI_API_KEY'] = '...'"
   ]
  },
  {
   "cell_type": "code",
   "execution_count": null,
   "id": "5972cec1-506f-47e3-a035-9ad895423e2b",
   "metadata": {},
   "outputs": [],
   "source": [
    "%load_ext dotenv\n",
    "%dotenv"
   ]
  },
  {
   "cell_type": "code",
   "execution_count": null,
   "id": "107f442e-eb5d-48e3-95d3-28c4fb856029",
   "metadata": {},
   "outputs": [],
   "source": []
  },
  {
   "cell_type": "code",
   "execution_count": null,
   "id": "cf6443f9-afdd-46ca-a6b3-0a894d257bfa",
   "metadata": {},
   "outputs": [],
   "source": []
  }
 ],
 "metadata": {
  "kernelspec": {
   "display_name": "langchain_env",
   "language": "python",
   "name": "langchain_env"
  },
  "language_info": {
   "codemirror_mode": {
    "name": "ipython",
    "version": 3
   },
   "file_extension": ".py",
   "mimetype": "text/x-python",
   "name": "python",
   "nbconvert_exporter": "python",
   "pygments_lexer": "ipython3",
   "version": "3.12.7"
  }
 },
 "nbformat": 4,
 "nbformat_minor": 5
}
