{
 "cells": [
  {
   "cell_type": "code",
   "execution_count": 55,
   "id": "697277b9-58ab-41ee-9f92-557471d5e633",
   "metadata": {},
   "outputs": [
    {
     "name": "stdout",
     "output_type": "stream",
     "text": [
      "The dotenv extension is already loaded. To reload it, use:\n",
      "  %reload_ext dotenv\n"
     ]
    }
   ],
   "source": [
    "%load_ext dotenv\n",
    "%dotenv"
   ]
  },
  {
   "cell_type": "code",
   "execution_count": 56,
   "id": "570f062a-9fe0-4dc5-b5c0-90fb4af44a96",
   "metadata": {},
   "outputs": [],
   "source": [
    "import os\n",
    "import openai"
   ]
  },
  {
   "cell_type": "code",
   "execution_count": 57,
   "id": "a05b3ba2-06b4-46ff-9f23-ea86fecdc0c5",
   "metadata": {},
   "outputs": [],
   "source": [
    "openai.api_key = os.getenv('OPENAI_API_KEY')"
   ]
  },
  {
   "cell_type": "code",
   "execution_count": 58,
   "id": "4f671531-d757-4db0-a2c2-82917b6d5843",
   "metadata": {},
   "outputs": [],
   "source": [
    "client = openai.OpenAI()"
   ]
  },
  {
   "cell_type": "code",
   "execution_count": 62,
   "id": "92ae28c1-b014-4300-89f1-70ef9009812c",
   "metadata": {},
   "outputs": [],
   "source": [
    "completion = client.chat.completions.create(model = 'gpt-4o-mini', \n",
    "                                            messages = [{'role':'user',                                                           \n",
    "                                                         'content':''' Could you explain briefly what a black hole is?  '''}],\n",
    "                                           max_tokens = 250, \n",
    "                                           temperature = 0, \n",
    "                                           seed = 365,\n",
    "                                           stream = True)"
   ]
  },
  {
   "cell_type": "code",
   "execution_count": 68,
   "id": "b20e11b7-54b2-4e9e-9225-bad1355089fa",
   "metadata": {
    "scrolled": true
   },
   "outputs": [
    {
     "data": {
      "text/plain": [
       "<openai.Stream at 0x1a3756d35c0>"
      ]
     },
     "execution_count": 68,
     "metadata": {},
     "output_type": "execute_result"
    }
   ],
   "source": [
    "completion"
   ]
  },
  {
   "cell_type": "code",
   "execution_count": 69,
   "id": "87a9881d-e9ef-4d8b-b8c0-fe8949290e72",
   "metadata": {},
   "outputs": [
    {
     "name": "stdout",
     "output_type": "stream",
     "text": [
      "A black hole is a region in space where the gravitational pull is so strong that nothing, not even light, can escape from it. This occurs when a massive star collapses under its own gravity at the end of its life cycle. The boundary surrounding a black hole is called the event horizon, which marks the point of no return. Once an object crosses this boundary, it cannot escape the black hole's gravitational influence. Black holes can vary in size, from stellar black holes formed by collapsing stars to supermassive black holes found at the centers of galaxies, containing millions to billions of times the mass of the Sun.None"
     ]
    }
   ],
   "source": [
    "for i in completion:\n",
    "    print(i.choices[0].delta.content, end = \"\")"
   ]
  },
  {
   "cell_type": "code",
   "execution_count": 70,
   "id": "90678b50-1459-43ac-be21-38de9a9ae0bc",
   "metadata": {},
   "outputs": [
    {
     "ename": "AttributeError",
     "evalue": "'Stream' object has no attribute 'choices'",
     "output_type": "error",
     "traceback": [
      "\u001b[1;31m---------------------------------------------------------------------------\u001b[0m",
      "\u001b[1;31mAttributeError\u001b[0m                            Traceback (most recent call last)",
      "Cell \u001b[1;32mIn[70], line 1\u001b[0m\n\u001b[1;32m----> 1\u001b[0m \u001b[38;5;28mprint\u001b[39m(completion\u001b[38;5;241m.\u001b[39mchoices[\u001b[38;5;241m0\u001b[39m]\u001b[38;5;241m.\u001b[39mmessage\u001b[38;5;241m.\u001b[39mcontent)\n",
      "\u001b[1;31mAttributeError\u001b[0m: 'Stream' object has no attribute 'choices'"
     ]
    }
   ],
   "source": [
    "print(completion.choices[0].message.content)"
   ]
  },
  {
   "cell_type": "code",
   "execution_count": null,
   "id": "11b36445-5966-4f62-bf17-a430554ec809",
   "metadata": {},
   "outputs": [],
   "source": []
  },
  {
   "cell_type": "code",
   "execution_count": null,
   "id": "a430dbe2-1235-4580-bf04-881c3d4669a9",
   "metadata": {},
   "outputs": [],
   "source": []
  }
 ],
 "metadata": {
  "kernelspec": {
   "display_name": "langchain_env",
   "language": "python",
   "name": "langchain_env"
  },
  "language_info": {
   "codemirror_mode": {
    "name": "ipython",
    "version": 3
   },
   "file_extension": ".py",
   "mimetype": "text/x-python",
   "name": "python",
   "nbconvert_exporter": "python",
   "pygments_lexer": "ipython3",
   "version": "3.12.7"
  }
 },
 "nbformat": 4,
 "nbformat_minor": 5
}
